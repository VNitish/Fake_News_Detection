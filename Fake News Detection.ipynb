{
 "cells": [
  {
   "cell_type": "markdown",
   "id": "dad6c35d",
   "metadata": {},
   "source": [
    "# $Fake$ $News$ $Detection$"
   ]
  },
  {
   "cell_type": "code",
   "execution_count": 1,
   "id": "53134f5e",
   "metadata": {},
   "outputs": [
    {
     "data": {
      "text/html": [
       "<div>\n",
       "<style scoped>\n",
       "    .dataframe tbody tr th:only-of-type {\n",
       "        vertical-align: middle;\n",
       "    }\n",
       "\n",
       "    .dataframe tbody tr th {\n",
       "        vertical-align: top;\n",
       "    }\n",
       "\n",
       "    .dataframe thead th {\n",
       "        text-align: right;\n",
       "    }\n",
       "</style>\n",
       "<table border=\"1\" class=\"dataframe\">\n",
       "  <thead>\n",
       "    <tr style=\"text-align: right;\">\n",
       "      <th></th>\n",
       "      <th>Unnamed: 0</th>\n",
       "      <th>title</th>\n",
       "      <th>text</th>\n",
       "      <th>label</th>\n",
       "    </tr>\n",
       "  </thead>\n",
       "  <tbody>\n",
       "    <tr>\n",
       "      <th>0</th>\n",
       "      <td>8476</td>\n",
       "      <td>You Can Smell Hillary’s Fear</td>\n",
       "      <td>Daniel Greenfield, a Shillman Journalism Fello...</td>\n",
       "      <td>FAKE</td>\n",
       "    </tr>\n",
       "    <tr>\n",
       "      <th>1</th>\n",
       "      <td>10294</td>\n",
       "      <td>Watch The Exact Moment Paul Ryan Committed Pol...</td>\n",
       "      <td>Google Pinterest Digg Linkedin Reddit Stumbleu...</td>\n",
       "      <td>FAKE</td>\n",
       "    </tr>\n",
       "    <tr>\n",
       "      <th>2</th>\n",
       "      <td>3608</td>\n",
       "      <td>Kerry to go to Paris in gesture of sympathy</td>\n",
       "      <td>U.S. Secretary of State John F. Kerry said Mon...</td>\n",
       "      <td>REAL</td>\n",
       "    </tr>\n",
       "    <tr>\n",
       "      <th>3</th>\n",
       "      <td>10142</td>\n",
       "      <td>Bernie supporters on Twitter erupt in anger ag...</td>\n",
       "      <td>— Kaydee King (@KaydeeKing) November 9, 2016 T...</td>\n",
       "      <td>FAKE</td>\n",
       "    </tr>\n",
       "    <tr>\n",
       "      <th>4</th>\n",
       "      <td>875</td>\n",
       "      <td>The Battle of New York: Why This Primary Matters</td>\n",
       "      <td>It's primary day in New York and front-runners...</td>\n",
       "      <td>REAL</td>\n",
       "    </tr>\n",
       "  </tbody>\n",
       "</table>\n",
       "</div>"
      ],
      "text/plain": [
       "   Unnamed: 0                                              title  \\\n",
       "0        8476                       You Can Smell Hillary’s Fear   \n",
       "1       10294  Watch The Exact Moment Paul Ryan Committed Pol...   \n",
       "2        3608        Kerry to go to Paris in gesture of sympathy   \n",
       "3       10142  Bernie supporters on Twitter erupt in anger ag...   \n",
       "4         875   The Battle of New York: Why This Primary Matters   \n",
       "\n",
       "                                                text label  \n",
       "0  Daniel Greenfield, a Shillman Journalism Fello...  FAKE  \n",
       "1  Google Pinterest Digg Linkedin Reddit Stumbleu...  FAKE  \n",
       "2  U.S. Secretary of State John F. Kerry said Mon...  REAL  \n",
       "3  — Kaydee King (@KaydeeKing) November 9, 2016 T...  FAKE  \n",
       "4  It's primary day in New York and front-runners...  REAL  "
      ]
     },
     "execution_count": 1,
     "metadata": {},
     "output_type": "execute_result"
    }
   ],
   "source": [
    "import numpy as np\n",
    "import pandas as pd\n",
    "import json\n",
    "import csv\n",
    "import random\n",
    "\n",
    "from tensorflow.keras.preprocessing.text import Tokenizer\n",
    "from tensorflow.keras.preprocessing.sequence import pad_sequences\n",
    "from tensorflow.keras.utils import to_categorical\n",
    "from tensorflow.keras import regularizers\n",
    "\n",
    "import pprint\n",
    "import tensorflow.compat.v1 as tf\n",
    "from tensorflow.python.framework import ops\n",
    "from sklearn.model_selection import train_test_split\n",
    "from sklearn import preprocessing\n",
    "tf.disable_eager_execution()\n",
    "\n",
    "# Reading the data\n",
    "data = pd.read_csv(\"news.csv\")\n",
    "data.head()"
   ]
  },
  {
   "cell_type": "code",
   "execution_count": 2,
   "id": "a2feb969",
   "metadata": {},
   "outputs": [
    {
     "data": {
      "text/html": [
       "<div>\n",
       "<style scoped>\n",
       "    .dataframe tbody tr th:only-of-type {\n",
       "        vertical-align: middle;\n",
       "    }\n",
       "\n",
       "    .dataframe tbody tr th {\n",
       "        vertical-align: top;\n",
       "    }\n",
       "\n",
       "    .dataframe thead th {\n",
       "        text-align: right;\n",
       "    }\n",
       "</style>\n",
       "<table border=\"1\" class=\"dataframe\">\n",
       "  <thead>\n",
       "    <tr style=\"text-align: right;\">\n",
       "      <th></th>\n",
       "      <th>title</th>\n",
       "      <th>text</th>\n",
       "      <th>label</th>\n",
       "    </tr>\n",
       "  </thead>\n",
       "  <tbody>\n",
       "    <tr>\n",
       "      <th>0</th>\n",
       "      <td>You Can Smell Hillary’s Fear</td>\n",
       "      <td>Daniel Greenfield, a Shillman Journalism Fello...</td>\n",
       "      <td>FAKE</td>\n",
       "    </tr>\n",
       "    <tr>\n",
       "      <th>1</th>\n",
       "      <td>Watch The Exact Moment Paul Ryan Committed Pol...</td>\n",
       "      <td>Google Pinterest Digg Linkedin Reddit Stumbleu...</td>\n",
       "      <td>FAKE</td>\n",
       "    </tr>\n",
       "    <tr>\n",
       "      <th>2</th>\n",
       "      <td>Kerry to go to Paris in gesture of sympathy</td>\n",
       "      <td>U.S. Secretary of State John F. Kerry said Mon...</td>\n",
       "      <td>REAL</td>\n",
       "    </tr>\n",
       "    <tr>\n",
       "      <th>3</th>\n",
       "      <td>Bernie supporters on Twitter erupt in anger ag...</td>\n",
       "      <td>— Kaydee King (@KaydeeKing) November 9, 2016 T...</td>\n",
       "      <td>FAKE</td>\n",
       "    </tr>\n",
       "    <tr>\n",
       "      <th>4</th>\n",
       "      <td>The Battle of New York: Why This Primary Matters</td>\n",
       "      <td>It's primary day in New York and front-runners...</td>\n",
       "      <td>REAL</td>\n",
       "    </tr>\n",
       "  </tbody>\n",
       "</table>\n",
       "</div>"
      ],
      "text/plain": [
       "                                               title  \\\n",
       "0                       You Can Smell Hillary’s Fear   \n",
       "1  Watch The Exact Moment Paul Ryan Committed Pol...   \n",
       "2        Kerry to go to Paris in gesture of sympathy   \n",
       "3  Bernie supporters on Twitter erupt in anger ag...   \n",
       "4   The Battle of New York: Why This Primary Matters   \n",
       "\n",
       "                                                text label  \n",
       "0  Daniel Greenfield, a Shillman Journalism Fello...  FAKE  \n",
       "1  Google Pinterest Digg Linkedin Reddit Stumbleu...  FAKE  \n",
       "2  U.S. Secretary of State John F. Kerry said Mon...  REAL  \n",
       "3  — Kaydee King (@KaydeeKing) November 9, 2016 T...  FAKE  \n",
       "4  It's primary day in New York and front-runners...  REAL  "
      ]
     },
     "execution_count": 2,
     "metadata": {},
     "output_type": "execute_result"
    }
   ],
   "source": [
    "data = data.drop([\"Unnamed: 0\"], axis=1)\n",
    "data.head(5)"
   ]
  },
  {
   "cell_type": "code",
   "execution_count": 3,
   "id": "722caf0a",
   "metadata": {},
   "outputs": [],
   "source": [
    "#Data Encoding\n",
    "# encoding the labels\n",
    "le = preprocessing.LabelEncoder()\n",
    "le.fit(data['label'])\n",
    "data['label'] = le.transform(data['label'])"
   ]
  },
  {
   "cell_type": "code",
   "execution_count": 4,
   "id": "0699f63a",
   "metadata": {},
   "outputs": [],
   "source": [
    "#These are some variables required for the model training.\n",
    "embedding_dim = 50\n",
    "max_length = 54\n",
    "trunc_type = 'post'\n",
    "padding_type = 'post'\n",
    "oov_tok = \"<OOV>\"\n",
    "training_size = 3000\n",
    "test_portion = .1"
   ]
  },
  {
   "cell_type": "markdown",
   "id": "4d9bc5e6",
   "metadata": {},
   "source": [
    "### $Tokenization$ \n",
    "- This process divides a large piece of continuous text into distinct units or tokens basically. Here we use columns separately for a temporal basis as a pipeline just for good accuracy."
   ]
  },
  {
   "cell_type": "code",
   "execution_count": 5,
   "id": "59ff22d6",
   "metadata": {},
   "outputs": [],
   "source": [
    "title = []\n",
    "text = []\n",
    "labels = []\n",
    "for x in range(training_size):\n",
    "    title.append(data['title'][x])\n",
    "    text.append(data['text'][x])\n",
    "    labels.append(data['label'][x])"
   ]
  },
  {
   "cell_type": "code",
   "execution_count": 6,
   "id": "9898dfed",
   "metadata": {},
   "outputs": [],
   "source": [
    "#Applying Tokenization\n",
    "tokenizer1 = Tokenizer()\n",
    "tokenizer1.fit_on_texts(title)\n",
    "word_index1 = tokenizer1.word_index\n",
    "vocab_size1 = len(word_index1)\n",
    "sequences1 = tokenizer1.texts_to_sequences(title)\n",
    "padded1 = pad_sequences(\n",
    "    sequences1, padding=padding_type, truncating=trunc_type)\n",
    "split = int(test_portion * training_size)\n",
    "training_sequences1 = padded1[split:training_size]\n",
    "test_sequences1 = padded1[0:split]\n",
    "test_labels = labels[0:split]\n",
    "training_labels = labels[split:training_size]"
   ]
  },
  {
   "cell_type": "markdown",
   "id": "6a84cd30",
   "metadata": {},
   "source": [
    "### $Generating$ $Word$ $Embedding$\n",
    "- It allows words with similar meanings to have a similar representation. Here each individual word is represented as real-valued vectors in a predefined vector space. For that we will use glove.6B.50d.txt. It has the predefined vector space for words. You can download the file using this link."
   ]
  },
  {
   "cell_type": "code",
   "execution_count": 10,
   "id": "edee104e",
   "metadata": {},
   "outputs": [],
   "source": [
    "embeddings_index = {}\n",
    "with open('glove.6B.50d.txt','r', encoding='utf-8') as f:\n",
    "    for line in f:\n",
    "        values = line.split()\n",
    "        word = values[0]\n",
    "        coefs = np.asarray(values[1:], dtype='float32')\n",
    "        embeddings_index[word] = coefs\n",
    "\n",
    "# Generating embeddings\n",
    "embeddings_matrix = np.zeros((vocab_size1+1, embedding_dim))\n",
    "for word, i in word_index1.items():\n",
    "    embedding_vector = embeddings_index.get(word)\n",
    "    if embedding_vector is not None:\n",
    "        embeddings_matrix[i] = embedding_vector"
   ]
  },
  {
   "cell_type": "markdown",
   "id": "ced07b48",
   "metadata": {},
   "source": [
    "### $Creating$ $Model$ $Architecture$\n",
    "- Now it’s time to introduce TensorFlow to create the model.  Here we use the TensorFlow embedding technique with Keras Embedding Layer where we map original input data into some set of real-valued dimensions."
   ]
  },
  {
   "cell_type": "code",
   "execution_count": 11,
   "id": "45d61ec0",
   "metadata": {},
   "outputs": [
    {
     "name": "stdout",
     "output_type": "stream",
     "text": [
      "Model: \"sequential\"\n",
      "_________________________________________________________________\n",
      " Layer (type)                Output Shape              Param #   \n",
      "=================================================================\n",
      " embedding (Embedding)       (None, 54, 50)            377600    \n",
      "                                                                 \n",
      " dropout (Dropout)           (None, 54, 50)            0         \n",
      "                                                                 \n",
      " conv1d (Conv1D)             (None, 50, 64)            16064     \n",
      "                                                                 \n",
      " max_pooling1d (MaxPooling1D  (None, 12, 64)           0         \n",
      " )                                                               \n",
      "                                                                 \n",
      " lstm (LSTM)                 (None, 64)                33024     \n",
      "                                                                 \n",
      " dense (Dense)               (None, 1)                 65        \n",
      "                                                                 \n",
      "=================================================================\n",
      "Total params: 426,753\n",
      "Trainable params: 49,153\n",
      "Non-trainable params: 377,600\n",
      "_________________________________________________________________\n"
     ]
    }
   ],
   "source": [
    "model = tf.keras.Sequential([\n",
    "    tf.keras.layers.Embedding(vocab_size1+1, embedding_dim,\n",
    "                            input_length=max_length, weights=[\n",
    "                                embeddings_matrix],\n",
    "                            trainable=False),\n",
    "    tf.keras.layers.Dropout(0.2),\n",
    "    tf.keras.layers.Conv1D(64, 5, activation='relu'),\n",
    "    tf.keras.layers.MaxPooling1D(pool_size=4),\n",
    "    tf.keras.layers.LSTM(64),\n",
    "    tf.keras.layers.Dense(1, activation='sigmoid')\n",
    "])\n",
    "model.compile(loss='binary_crossentropy',\n",
    "            optimizer='adam', metrics=['accuracy'])\n",
    "model.summary()"
   ]
  },
  {
   "cell_type": "code",
   "execution_count": 12,
   "id": "9e622291",
   "metadata": {},
   "outputs": [
    {
     "name": "stdout",
     "output_type": "stream",
     "text": [
      "Train on 2700 samples, validate on 300 samples\n",
      "Epoch 1/50\n"
     ]
    },
    {
     "name": "stderr",
     "output_type": "stream",
     "text": [
      "C:\\Users\\VNitish\\anaconda3\\lib\\site-packages\\keras\\engine\\training_v1.py:2057: UserWarning: `Model.state_updates` will be removed in a future version. This property should not be used in TensorFlow 2.0, as `updates` are applied automatically.\n",
      "  updates = self.state_updates\n"
     ]
    },
    {
     "name": "stdout",
     "output_type": "stream",
     "text": [
      "2700/2700 - 3s - loss: 0.6438 - accuracy: 0.6207 - val_loss: 0.5544 - val_accuracy: 0.6867 - 3s/epoch - 966us/sample\n",
      "Epoch 2/50\n",
      "2700/2700 - 1s - loss: 0.5765 - accuracy: 0.6930 - val_loss: 0.5360 - val_accuracy: 0.6900 - 1s/epoch - 467us/sample\n",
      "Epoch 3/50\n",
      "2700/2700 - 1s - loss: 0.5394 - accuracy: 0.7244 - val_loss: 0.5334 - val_accuracy: 0.6800 - 1s/epoch - 473us/sample\n",
      "Epoch 4/50\n",
      "2700/2700 - 1s - loss: 0.4947 - accuracy: 0.7563 - val_loss: 0.5099 - val_accuracy: 0.7033 - 1s/epoch - 539us/sample\n",
      "Epoch 5/50\n",
      "2700/2700 - 1s - loss: 0.4511 - accuracy: 0.7822 - val_loss: 0.5690 - val_accuracy: 0.7033 - 1s/epoch - 474us/sample\n",
      "Epoch 6/50\n",
      "2700/2700 - 1s - loss: 0.4209 - accuracy: 0.8063 - val_loss: 0.5079 - val_accuracy: 0.7167 - 1s/epoch - 479us/sample\n",
      "Epoch 7/50\n",
      "2700/2700 - 1s - loss: 0.3538 - accuracy: 0.8389 - val_loss: 0.6399 - val_accuracy: 0.6933 - 1s/epoch - 550us/sample\n",
      "Epoch 8/50\n",
      "2700/2700 - 1s - loss: 0.3406 - accuracy: 0.8552 - val_loss: 0.5448 - val_accuracy: 0.7400 - 1s/epoch - 521us/sample\n",
      "Epoch 9/50\n",
      "2700/2700 - 1s - loss: 0.2867 - accuracy: 0.8830 - val_loss: 0.5192 - val_accuracy: 0.7533 - 1s/epoch - 515us/sample\n",
      "Epoch 10/50\n",
      "2700/2700 - 1s - loss: 0.2682 - accuracy: 0.8911 - val_loss: 0.6064 - val_accuracy: 0.7500 - 1s/epoch - 505us/sample\n",
      "Epoch 11/50\n",
      "2700/2700 - 1s - loss: 0.2480 - accuracy: 0.8937 - val_loss: 0.6155 - val_accuracy: 0.7200 - 1s/epoch - 474us/sample\n",
      "Epoch 12/50\n",
      "2700/2700 - 1s - loss: 0.2316 - accuracy: 0.9067 - val_loss: 0.6377 - val_accuracy: 0.7233 - 1s/epoch - 469us/sample\n",
      "Epoch 13/50\n",
      "2700/2700 - 1s - loss: 0.2145 - accuracy: 0.9126 - val_loss: 0.7034 - val_accuracy: 0.7233 - 1s/epoch - 470us/sample\n",
      "Epoch 14/50\n",
      "2700/2700 - 1s - loss: 0.2154 - accuracy: 0.9156 - val_loss: 0.6431 - val_accuracy: 0.7533 - 1s/epoch - 517us/sample\n",
      "Epoch 15/50\n",
      "2700/2700 - 1s - loss: 0.1741 - accuracy: 0.9337 - val_loss: 0.6435 - val_accuracy: 0.7200 - 1s/epoch - 498us/sample\n",
      "Epoch 16/50\n",
      "2700/2700 - 1s - loss: 0.1734 - accuracy: 0.9296 - val_loss: 0.6502 - val_accuracy: 0.7133 - 1s/epoch - 478us/sample\n",
      "Epoch 17/50\n",
      "2700/2700 - 1s - loss: 0.1504 - accuracy: 0.9367 - val_loss: 0.8022 - val_accuracy: 0.6800 - 1s/epoch - 487us/sample\n",
      "Epoch 18/50\n",
      "2700/2700 - 1s - loss: 0.1565 - accuracy: 0.9389 - val_loss: 0.7013 - val_accuracy: 0.7467 - 1s/epoch - 481us/sample\n",
      "Epoch 19/50\n",
      "2700/2700 - 1s - loss: 0.1468 - accuracy: 0.9411 - val_loss: 0.8219 - val_accuracy: 0.7333 - 1s/epoch - 512us/sample\n",
      "Epoch 20/50\n",
      "2700/2700 - 1s - loss: 0.1164 - accuracy: 0.9567 - val_loss: 0.9192 - val_accuracy: 0.7600 - 1s/epoch - 509us/sample\n",
      "Epoch 21/50\n",
      "2700/2700 - 1s - loss: 0.1211 - accuracy: 0.9548 - val_loss: 0.9409 - val_accuracy: 0.7300 - 1s/epoch - 475us/sample\n",
      "Epoch 22/50\n",
      "2700/2700 - 1s - loss: 0.1262 - accuracy: 0.9559 - val_loss: 0.6892 - val_accuracy: 0.7567 - 1s/epoch - 462us/sample\n",
      "Epoch 23/50\n",
      "2700/2700 - 1s - loss: 0.1130 - accuracy: 0.9552 - val_loss: 0.9237 - val_accuracy: 0.7133 - 1s/epoch - 461us/sample\n",
      "Epoch 24/50\n",
      "2700/2700 - 1s - loss: 0.1066 - accuracy: 0.9600 - val_loss: 0.8960 - val_accuracy: 0.7267 - 1s/epoch - 470us/sample\n",
      "Epoch 25/50\n",
      "2700/2700 - 1s - loss: 0.1066 - accuracy: 0.9619 - val_loss: 0.9798 - val_accuracy: 0.7367 - 1s/epoch - 485us/sample\n",
      "Epoch 26/50\n",
      "2700/2700 - 1s - loss: 0.1068 - accuracy: 0.9578 - val_loss: 1.0599 - val_accuracy: 0.7133 - 1s/epoch - 504us/sample\n",
      "Epoch 27/50\n",
      "2700/2700 - 1s - loss: 0.1079 - accuracy: 0.9600 - val_loss: 0.9957 - val_accuracy: 0.7267 - 1s/epoch - 469us/sample\n",
      "Epoch 28/50\n",
      "2700/2700 - 1s - loss: 0.0879 - accuracy: 0.9652 - val_loss: 1.0185 - val_accuracy: 0.7267 - 1s/epoch - 474us/sample\n",
      "Epoch 29/50\n",
      "2700/2700 - 1s - loss: 0.0970 - accuracy: 0.9641 - val_loss: 0.9440 - val_accuracy: 0.7400 - 1s/epoch - 465us/sample\n",
      "Epoch 30/50\n",
      "2700/2700 - 1s - loss: 0.0958 - accuracy: 0.9659 - val_loss: 1.0708 - val_accuracy: 0.7267 - 1s/epoch - 459us/sample\n",
      "Epoch 31/50\n",
      "2700/2700 - 1s - loss: 0.0839 - accuracy: 0.9652 - val_loss: 0.8133 - val_accuracy: 0.7200 - 1s/epoch - 492us/sample\n",
      "Epoch 32/50\n",
      "2700/2700 - 1s - loss: 0.0682 - accuracy: 0.9744 - val_loss: 1.0205 - val_accuracy: 0.7267 - 1s/epoch - 501us/sample\n",
      "Epoch 33/50\n",
      "2700/2700 - 1s - loss: 0.0977 - accuracy: 0.9637 - val_loss: 0.7717 - val_accuracy: 0.7433 - 1s/epoch - 476us/sample\n",
      "Epoch 34/50\n",
      "2700/2700 - 1s - loss: 0.0897 - accuracy: 0.9678 - val_loss: 0.8607 - val_accuracy: 0.7400 - 1s/epoch - 463us/sample\n",
      "Epoch 35/50\n",
      "2700/2700 - 1s - loss: 0.0791 - accuracy: 0.9711 - val_loss: 0.9501 - val_accuracy: 0.7167 - 1s/epoch - 473us/sample\n",
      "Epoch 36/50\n",
      "2700/2700 - 1s - loss: 0.0804 - accuracy: 0.9663 - val_loss: 0.8729 - val_accuracy: 0.7367 - 1s/epoch - 464us/sample\n",
      "Epoch 37/50\n",
      "2700/2700 - 1s - loss: 0.0912 - accuracy: 0.9667 - val_loss: 0.9559 - val_accuracy: 0.7400 - 1s/epoch - 470us/sample\n",
      "Epoch 38/50\n",
      "2700/2700 - 1s - loss: 0.0940 - accuracy: 0.9663 - val_loss: 0.9152 - val_accuracy: 0.7233 - 1s/epoch - 496us/sample\n",
      "Epoch 39/50\n",
      "2700/2700 - 1s - loss: 0.0720 - accuracy: 0.9696 - val_loss: 0.9350 - val_accuracy: 0.6900 - 1s/epoch - 511us/sample\n",
      "Epoch 40/50\n",
      "2700/2700 - 1s - loss: 0.0690 - accuracy: 0.9744 - val_loss: 1.0410 - val_accuracy: 0.7400 - 1s/epoch - 498us/sample\n",
      "Epoch 41/50\n",
      "2700/2700 - 1s - loss: 0.0783 - accuracy: 0.9704 - val_loss: 1.2621 - val_accuracy: 0.7133 - 1s/epoch - 495us/sample\n",
      "Epoch 42/50\n",
      "2700/2700 - 1s - loss: 0.0700 - accuracy: 0.9759 - val_loss: 1.1343 - val_accuracy: 0.7267 - 1s/epoch - 470us/sample\n",
      "Epoch 43/50\n",
      "2700/2700 - 1s - loss: 0.0602 - accuracy: 0.9781 - val_loss: 1.2548 - val_accuracy: 0.7233 - 1s/epoch - 542us/sample\n",
      "Epoch 44/50\n",
      "2700/2700 - 1s - loss: 0.0697 - accuracy: 0.9715 - val_loss: 1.2574 - val_accuracy: 0.7133 - 1s/epoch - 548us/sample\n",
      "Epoch 45/50\n",
      "2700/2700 - 1s - loss: 0.0778 - accuracy: 0.9700 - val_loss: 1.1399 - val_accuracy: 0.7200 - 1s/epoch - 523us/sample\n",
      "Epoch 46/50\n",
      "2700/2700 - 1s - loss: 0.0663 - accuracy: 0.9767 - val_loss: 1.1058 - val_accuracy: 0.7133 - 1s/epoch - 507us/sample\n",
      "Epoch 47/50\n",
      "2700/2700 - 1s - loss: 0.0535 - accuracy: 0.9811 - val_loss: 1.1682 - val_accuracy: 0.7033 - 1s/epoch - 476us/sample\n",
      "Epoch 48/50\n",
      "2700/2700 - 1s - loss: 0.0619 - accuracy: 0.9793 - val_loss: 1.2682 - val_accuracy: 0.7233 - 1s/epoch - 476us/sample\n",
      "Epoch 49/50\n",
      "2700/2700 - 1s - loss: 0.0701 - accuracy: 0.9693 - val_loss: 1.1128 - val_accuracy: 0.7333 - 1s/epoch - 470us/sample\n",
      "Epoch 50/50\n",
      "2700/2700 - 1s - loss: 0.0493 - accuracy: 0.9833 - val_loss: 1.2026 - val_accuracy: 0.7267 - 1s/epoch - 473us/sample\n"
     ]
    }
   ],
   "source": [
    "num_epochs = 50\n",
    "\n",
    "training_padded = np.array(training_sequences1)\n",
    "training_labels = np.array(training_labels)\n",
    "testing_padded = np.array(test_sequences1)\n",
    "testing_labels = np.array(test_labels)\n",
    "\n",
    "history = model.fit(training_padded, training_labels,\n",
    "                    epochs=num_epochs,\n",
    "                    validation_data=(testing_padded,\n",
    "                                    testing_labels),\n",
    "                    verbose=2)"
   ]
  },
  {
   "cell_type": "markdown",
   "id": "a13c9a06",
   "metadata": {},
   "source": [
    "### $Model$ $Evaluation$ $and$ $Prediction$\n",
    "Now, the detection model is built using TensorFlow. Now we will try to test the model by using some news text by predicting whether it is true or false."
   ]
  },
  {
   "cell_type": "code",
   "execution_count": 13,
   "id": "54c63d4b",
   "metadata": {},
   "outputs": [
    {
     "name": "stderr",
     "output_type": "stream",
     "text": [
      "C:\\Users\\VNitish\\anaconda3\\lib\\site-packages\\keras\\engine\\training_v1.py:2079: UserWarning: `Model.state_updates` will be removed in a future version. This property should not be used in TensorFlow 2.0, as `updates` are applied automatically.\n",
      "  updates=self.state_updates,\n"
     ]
    },
    {
     "name": "stdout",
     "output_type": "stream",
     "text": [
      "This news is false\n"
     ]
    }
   ],
   "source": [
    "# sample text to check if fake or not\n",
    "X = \"Karry to go to France in gesture of sympathy\"\n",
    "\n",
    "# detection\n",
    "sequences = tokenizer1.texts_to_sequences([X])[0]\n",
    "sequences = pad_sequences([sequences], maxlen=54,\n",
    "                        padding=padding_type,\n",
    "                        truncating=trunc_type)\n",
    "if(model.predict(sequences, verbose=0)[0][0] >= 0.5):\n",
    "    print(\"This news is True\")\n",
    "else:\n",
    "    print(\"This news is false\")"
   ]
  },
  {
   "cell_type": "code",
   "execution_count": null,
   "id": "2aaedb71",
   "metadata": {},
   "outputs": [],
   "source": []
  }
 ],
 "metadata": {
  "kernelspec": {
   "display_name": "Python 3",
   "language": "python",
   "name": "python3"
  },
  "language_info": {
   "codemirror_mode": {
    "name": "ipython",
    "version": 3
   },
   "file_extension": ".py",
   "mimetype": "text/x-python",
   "name": "python",
   "nbconvert_exporter": "python",
   "pygments_lexer": "ipython3",
   "version": "3.8.8"
  }
 },
 "nbformat": 4,
 "nbformat_minor": 5
}
